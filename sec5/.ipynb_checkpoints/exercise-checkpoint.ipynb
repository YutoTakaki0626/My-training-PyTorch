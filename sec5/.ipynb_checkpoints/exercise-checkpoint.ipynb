{
 "cells": [
  {
   "cell_type": "markdown",
   "id": "a991db53-7c04-4234-9dfa-ce4740a5cd39",
   "metadata": {},
   "source": [
    "# 1"
   ]
  },
  {
   "cell_type": "code",
   "execution_count": 1,
   "id": "822a37bf-fa31-4701-8d08-7d322891b4cf",
   "metadata": {},
   "outputs": [],
   "source": [
    "import torch \n",
    "import torch.optim as optim\n",
    "import numpy as np"
   ]
  },
  {
   "cell_type": "code",
   "execution_count": 2,
   "id": "ee0aac8f-bf46-4025-80d6-e80c4174cd5f",
   "metadata": {},
   "outputs": [],
   "source": [
    "t_c = torch.tensor([0.5, 14.0, 15.0, 28.0, 11.0,\n",
    "                    8.0, 3.0, -4.0, 6.0, 13.0, 21.0])\n",
    "t_u = torch.tensor([35.7, 55.9, 58.2, 81.9, 56.3, 48.9,\n",
    "                    33.9, 21.8, 48.4, 60.4, 68.4])\n",
    "t_un = 0.1 * t_u"
   ]
  },
  {
   "cell_type": "code",
   "execution_count": 3,
   "id": "43622957-ac07-48f4-9739-8e8c36ce80c0",
   "metadata": {},
   "outputs": [],
   "source": [
    "def loss_fn(t_p, t_c):\n",
    "    squared_diffs = (t_p - t_c)**2\n",
    "    return squared_diffs.mean()"
   ]
  },
  {
   "cell_type": "code",
   "execution_count": 4,
   "id": "756c4a0e-94f5-4a2c-bb31-f615cc96a93d",
   "metadata": {},
   "outputs": [],
   "source": [
    "# モデルの定義を変更\n",
    "def model(t_u, w1,w2, b):    \n",
    "    return w2 * t_u ** 2 + w1 * t_u +b"
   ]
  },
  {
   "cell_type": "code",
   "execution_count": 11,
   "id": "56b0a9bf-93d3-42d8-97fd-ff5d66d92587",
   "metadata": {},
   "outputs": [],
   "source": [
    "params = torch.tensor([1.0, 1.0, 0.0], requires_grad=True)\n",
    "learning_rate = 1e-4\n",
    "optimizer = optim.SGD([params], lr=learning_rate)"
   ]
  },
  {
   "cell_type": "code",
   "execution_count": 6,
   "id": "7f9d64a2-e30d-4e5e-81ca-3c944ff5020e",
   "metadata": {},
   "outputs": [],
   "source": [
    "n_samples = t_u.shape[0]\n",
    "n_val = int(0.2 * n_samples)\n",
    "\n",
    "shuffled_indices = torch.randperm(n_samples)\n",
    "\n",
    "train_indices = shuffled_indices[:-n_val]\n",
    "val_indices = shuffled_indices[-n_val:]\n",
    "\n",
    "\n",
    "train_t_u = t_u[train_indices]\n",
    "train_t_c = t_c[train_indices]\n",
    "\n",
    "val_t_u = t_u[val_indices]\n",
    "val_t_c = t_c[val_indices]\n",
    "\n",
    "train_t_un = 0.1 * train_t_u\n",
    "val_t_un = 0.1 * val_t_u"
   ]
  },
  {
   "cell_type": "code",
   "execution_count": 7,
   "id": "b49a0f4b-58e7-4a7d-b474-e5d52ca408bb",
   "metadata": {},
   "outputs": [],
   "source": [
    "def training_loop(n_epochs, optimizer, params, train_t_u, val_t_u, train_t_c, val_t_c):\n",
    "    for epoch in range(1, n_epochs+1):\n",
    "        train_t_p = model(train_t_u, *params)\n",
    "        train_loss = loss_fn(train_t_p, train_t_c)\n",
    "        \n",
    "        val_t_p = model(val_t_u, *params)\n",
    "        val_loss = loss_fn(val_t_p, val_t_c)\n",
    "        \n",
    "        optimizer.zero_grad()\n",
    "        train_loss.backward()\n",
    "        optimizer.step()\n",
    "        \n",
    "        if epoch <= 3 or epoch % 500 == 0:\n",
    "            print('Epoch:{}, Training loss{:.4f}, Validaton loss{:.4f}'.format(epoch, train_loss.item(), val_loss.item()))\n",
    "            \n",
    "    return params\n"
   ]
  },
  {
   "cell_type": "code",
   "execution_count": 13,
   "id": "6ef78987-c25f-4386-b294-cc88098e5ce5",
   "metadata": {},
   "outputs": [
    {
     "name": "stdout",
     "output_type": "stream",
     "text": [
      "Epoch:1, Training loss4.9864, Validaton loss4.6712\n",
      "Epoch:2, Training loss4.9856, Validaton loss4.6700\n",
      "Epoch:3, Training loss4.9848, Validaton loss4.6688\n",
      "Epoch:500, Training loss4.6528, Validaton loss4.1593\n",
      "Epoch:1000, Training loss4.4212, Validaton loss3.7591\n",
      "Epoch:1500, Training loss4.2601, Validaton loss3.4446\n",
      "Epoch:2000, Training loss4.1473, Validaton loss3.1961\n",
      "Epoch:2500, Training loss4.0678, Validaton loss2.9986\n",
      "Epoch:3000, Training loss4.0110, Validaton loss2.8410\n"
     ]
    },
    {
     "data": {
      "text/plain": [
       "tensor([-0.9165,  0.5722, -0.9973], requires_grad=True)"
      ]
     },
     "execution_count": 13,
     "metadata": {},
     "output_type": "execute_result"
    }
   ],
   "source": [
    "training_loop(\n",
    "    n_epochs = 3000, \n",
    "    optimizer = optimizer,\n",
    "    params = params,\n",
    "    train_t_u = train_t_un, # <1> \n",
    "    val_t_u = val_t_un, # <1> \n",
    "    train_t_c = train_t_c,\n",
    "    val_t_c = val_t_c)"
   ]
  },
  {
   "cell_type": "code",
   "execution_count": null,
   "id": "eea5cb16-6152-4fc1-b06e-f9bfe778b8d6",
   "metadata": {},
   "outputs": [],
   "source": []
  }
 ],
 "metadata": {
  "kernelspec": {
   "display_name": "Python 3",
   "language": "python",
   "name": "python3"
  },
  "language_info": {
   "codemirror_mode": {
    "name": "ipython",
    "version": 3
   },
   "file_extension": ".py",
   "mimetype": "text/x-python",
   "name": "python",
   "nbconvert_exporter": "python",
   "pygments_lexer": "ipython3",
   "version": "3.8.2"
  }
 },
 "nbformat": 4,
 "nbformat_minor": 5
}
