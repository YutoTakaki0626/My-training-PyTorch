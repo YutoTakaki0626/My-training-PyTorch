{
 "cells": [
  {
   "cell_type": "code",
   "execution_count": 2,
   "id": "528370f6-00ec-423c-b580-f557c7728a88",
   "metadata": {},
   "outputs": [],
   "source": [
    "import torch"
   ]
  },
  {
   "cell_type": "markdown",
   "id": "986f30c9-e29b-47a5-81cc-9d6c65e151d2",
   "metadata": {},
   "source": [
    "# 3.10 Numpyとの相互運用性"
   ]
  },
  {
   "cell_type": "code",
   "execution_count": 3,
   "id": "3dd2d194-25ed-4c55-867d-b65d589675e0",
   "metadata": {},
   "outputs": [
    {
     "data": {
      "text/plain": [
       "array([[1., 1., 1., 1.],\n",
       "       [1., 1., 1., 1.],\n",
       "       [1., 1., 1., 1.]], dtype=float32)"
      ]
     },
     "execution_count": 3,
     "metadata": {},
     "output_type": "execute_result"
    }
   ],
   "source": [
    "points = torch.ones(3, 4)\n",
    "points_np = points.numpy()\n",
    "points_np"
   ]
  },
  {
   "cell_type": "code",
   "execution_count": 6,
   "id": "0ac3a108-9d28-4bab-a994-b108bf8227c2",
   "metadata": {},
   "outputs": [
    {
     "data": {
      "text/plain": [
       "tensor([[1., 1., 1., 1.],\n",
       "        [1., 1., 1., 1.],\n",
       "        [1., 1., 1., 1.]])"
      ]
     },
     "execution_count": 6,
     "metadata": {},
     "output_type": "execute_result"
    }
   ],
   "source": [
    "torch.from_numpy(points_np)"
   ]
  },
  {
   "cell_type": "markdown",
   "id": "5efb14fe-740a-421a-8c78-4980ee7ccfc7",
   "metadata": {},
   "source": [
    "# 3.12 テンソルの保存とロード"
   ]
  },
  {
   "cell_type": "code",
   "execution_count": 9,
   "id": "b7b9a021-c8ff-4db6-a260-06b7892bbd64",
   "metadata": {},
   "outputs": [],
   "source": [
    "torch.save(points, 'data/ourpoints.t')"
   ]
  },
  {
   "cell_type": "code",
   "execution_count": 10,
   "id": "ef56ba53-e085-46fe-a1a8-52ee29123704",
   "metadata": {},
   "outputs": [],
   "source": [
    "points = torch.load('data/ourpoints.t')"
   ]
  },
  {
   "cell_type": "markdown",
   "id": "1d058645-dca4-4290-9341-d8c31e323494",
   "metadata": {},
   "source": [
    "### h5pyによるHDF5での保存"
   ]
  },
  {
   "cell_type": "code",
   "execution_count": 11,
   "id": "2ea2c3df-9776-4534-b805-c3d56a69dbb3",
   "metadata": {},
   "outputs": [],
   "source": [
    "import h5py"
   ]
  },
  {
   "cell_type": "code",
   "execution_count": 12,
   "id": "535bcd7a-e34c-4bd0-88b9-8e83ade036e7",
   "metadata": {},
   "outputs": [],
   "source": [
    "f = h5py.File('data/outpoints.hdf5', 'w')\n",
    "dset = f.create_dataset('coords', data=points.numpy())\n",
    "f.close()"
   ]
  },
  {
   "cell_type": "code",
   "execution_count": 14,
   "id": "c6a61c57-d43c-4eb6-8317-23ad435cf84f",
   "metadata": {},
   "outputs": [
    {
     "data": {
      "text/plain": [
       "array([[1., 1., 1., 1.],\n",
       "       [1., 1., 1., 1.]], dtype=float32)"
      ]
     },
     "execution_count": 14,
     "metadata": {},
     "output_type": "execute_result"
    }
   ],
   "source": [
    "f = h5py.File('data/outpoints.hdf5', 'r')\n",
    "dset = f['coords']\n",
    "last_points = dset[-2:]\n",
    "last_points"
   ]
  },
  {
   "cell_type": "code",
   "execution_count": 16,
   "id": "79e59cea-15bf-4049-81b3-1569ecce0a71",
   "metadata": {},
   "outputs": [],
   "source": [
    "last_points = torch.from_numpy(dset[-2:])\n",
    "f.close()"
   ]
  },
  {
   "cell_type": "code",
   "execution_count": null,
   "id": "03356fc0-969a-4023-8f65-6fe7d39348e8",
   "metadata": {},
   "outputs": [],
   "source": []
  }
 ],
 "metadata": {
  "kernelspec": {
   "display_name": "Python 3",
   "language": "python",
   "name": "python3"
  },
  "language_info": {
   "codemirror_mode": {
    "name": "ipython",
    "version": 3
   },
   "file_extension": ".py",
   "mimetype": "text/x-python",
   "name": "python",
   "nbconvert_exporter": "python",
   "pygments_lexer": "ipython3",
   "version": "3.8.2"
  }
 },
 "nbformat": 4,
 "nbformat_minor": 5
}
