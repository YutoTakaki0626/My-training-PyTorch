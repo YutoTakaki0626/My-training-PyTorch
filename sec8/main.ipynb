{
 "cells": [
  {
   "cell_type": "code",
   "execution_count": 1,
   "id": "8aad11e6-dba2-4588-9200-14d49d918225",
   "metadata": {},
   "outputs": [
    {
     "data": {
      "text/plain": [
       "<torch._C.Generator at 0x7fc8cec35410>"
      ]
     },
     "execution_count": 1,
     "metadata": {},
     "output_type": "execute_result"
    }
   ],
   "source": [
    "%matplotlib inline\n",
    "from matplotlib import pyplot as plt\n",
    "import numpy as np\n",
    "import collections\n",
    "\n",
    "import torch\n",
    "import torch.nn as nn\n",
    "import torch.nn.functional as F\n",
    "import torch.optim as optim\n",
    "\n",
    "torch.set_printoptions(edgeitems=2)\n",
    "torch.manual_seed(123)"
   ]
  },
  {
   "cell_type": "code",
   "execution_count": 2,
   "id": "192d3bd5-f8aa-4209-92d5-2e314191a2c6",
   "metadata": {},
   "outputs": [],
   "source": [
    "class_names = ['airplane','automobile','bird','cat','deer',\n",
    "               'dog','frog','horse','ship','truck']"
   ]
  },
  {
   "cell_type": "code",
   "execution_count": 7,
   "id": "50ed36cd-a2db-4085-bf65-b07625edfb2a",
   "metadata": {},
   "outputs": [
    {
     "name": "stdout",
     "output_type": "stream",
     "text": [
      "Files already downloaded and verified\n"
     ]
    }
   ],
   "source": [
    "from torchvision import datasets, transforms\n",
    "\n",
    "cifar10 = datasets.CIFAR10(\n",
    "    '.', train=True, download=True,\n",
    "    transform=transforms.Compose([\n",
    "        transforms.ToTensor(),\n",
    "        transforms.Normalize((0.4915, 0.4823, 0.4468),\n",
    "                             (0.2470, 0.2435, 0.2616))\n",
    "    ]))"
   ]
  },
  {
   "cell_type": "code",
   "execution_count": 8,
   "id": "634cc4f1-a069-463a-9780-1b6dadb36003",
   "metadata": {},
   "outputs": [
    {
     "name": "stdout",
     "output_type": "stream",
     "text": [
      "Files already downloaded and verified\n"
     ]
    }
   ],
   "source": [
    "cifar10_val = datasets.CIFAR10(\n",
    "    '.', train=False, download=True,\n",
    "    transform=transforms.Compose([\n",
    "        transforms.ToTensor(),\n",
    "        transforms.Normalize((0.4915, 0.4823, 0.4468),\n",
    "                             (0.2470, 0.2435, 0.2616))\n",
    "    ]))"
   ]
  },
  {
   "cell_type": "code",
   "execution_count": 9,
   "id": "9a30e3c8-2403-49f8-a486-370c7b562744",
   "metadata": {},
   "outputs": [],
   "source": [
    "label_map = {0: 0, 2: 1}\n",
    "class_names = ['airplane', 'bird']\n",
    "cifar2 = [(img, label_map[label])\n",
    "          for img, label in cifar10\n",
    "          if label in [0, 2]]\n",
    "cifar2_val = [(img, label_map[label])\n",
    "              for img, label in cifar10_val\n",
    "              if label in [0, 2]]"
   ]
  },
  {
   "cell_type": "code",
   "execution_count": 10,
   "id": "81175b27-62b7-44e3-8cce-fa656b2919b6",
   "metadata": {},
   "outputs": [],
   "source": [
    "connected_model = nn.Sequential(\n",
    "            nn.Linear(3072, 1024),\n",
    "            nn.Tanh(),\n",
    "            nn.Linear(1024, 512),\n",
    "            nn.Tanh(),\n",
    "            nn.Linear(512, 128),\n",
    "            nn.Tanh(),\n",
    "            nn.Linear(128, 2))"
   ]
  },
  {
   "cell_type": "code",
   "execution_count": 11,
   "id": "a0392c37-c624-49fb-ac30-2b3104794eeb",
   "metadata": {},
   "outputs": [
    {
     "data": {
      "text/plain": [
       "(3737474, [3145728, 1024, 524288, 512, 65536, 128, 256, 2])"
      ]
     },
     "execution_count": 11,
     "metadata": {},
     "output_type": "execute_result"
    }
   ],
   "source": [
    "numel_list = [p.numel()\n",
    "              for p in connected_model.parameters()\n",
    "              if p.requires_grad == True]\n",
    "sum(numel_list), numel_list"
   ]
  },
  {
   "cell_type": "code",
   "execution_count": 12,
   "id": "b3ff4c82-e7b8-4652-b23f-4f949dd532a7",
   "metadata": {},
   "outputs": [],
   "source": [
    "first_model = nn.Sequential(\n",
    "                nn.Linear(3072, 512),\n",
    "                nn.Tanh(),\n",
    "                nn.Linear(512, 2),\n",
    "                nn.LogSoftmax(dim=1))"
   ]
  },
  {
   "cell_type": "code",
   "execution_count": 13,
   "id": "6287e17c-22fc-4820-9be5-3e46946fa81d",
   "metadata": {},
   "outputs": [
    {
     "data": {
      "text/plain": [
       "(1574402, [1572864, 512, 1024, 2])"
      ]
     },
     "execution_count": 13,
     "metadata": {},
     "output_type": "execute_result"
    }
   ],
   "source": [
    "numel_list = [p.numel() for p in first_model.parameters()]\n",
    "sum(numel_list), numel_list"
   ]
  },
  {
   "cell_type": "code",
   "execution_count": 14,
   "id": "f5e959aa-243c-4382-b444-b06405ed9e19",
   "metadata": {},
   "outputs": [
    {
     "data": {
      "text/plain": [
       "(torch.Size([1024, 3072]), torch.Size([1024]))"
      ]
     },
     "execution_count": 14,
     "metadata": {},
     "output_type": "execute_result"
    }
   ],
   "source": [
    "linear = nn.Linear(3072, 1024)\n",
    "\n",
    "linear.weight.shape, linear.bias.shape"
   ]
  },
  {
   "cell_type": "markdown",
   "id": "25543aa1-13cb-40d3-a497-fd0d1cc8b6b7",
   "metadata": {},
   "source": [
    "# 畳み込みの使用方法"
   ]
  },
  {
   "cell_type": "code",
   "execution_count": 15,
   "id": "454f0dde-5a98-4cb1-8183-f3b23a992c7b",
   "metadata": {},
   "outputs": [
    {
     "data": {
      "text/plain": [
       "Conv2d(3, 16, kernel_size=(3, 3), stride=(1, 1))"
      ]
     },
     "execution_count": 15,
     "metadata": {},
     "output_type": "execute_result"
    }
   ],
   "source": [
    "conv = nn.Conv2d(3, 16, kernel_size=3)\n",
    "conv"
   ]
  },
  {
   "cell_type": "code",
   "execution_count": 16,
   "id": "1d4cf187-0ec6-4d79-83bc-af39f31bad66",
   "metadata": {},
   "outputs": [
    {
     "data": {
      "text/plain": [
       "(torch.Size([16, 3, 3, 3]), torch.Size([16]))"
      ]
     },
     "execution_count": 16,
     "metadata": {},
     "output_type": "execute_result"
    }
   ],
   "source": [
    "conv.weight.shape, conv.bias.shape"
   ]
  },
  {
   "cell_type": "code",
   "execution_count": 17,
   "id": "8b6537eb-e2e1-46f0-bf61-aa6d9c68081b",
   "metadata": {},
   "outputs": [
    {
     "data": {
      "text/plain": [
       "(torch.Size([1, 3, 32, 32]), torch.Size([1, 16, 30, 30]))"
      ]
     },
     "execution_count": 17,
     "metadata": {},
     "output_type": "execute_result"
    }
   ],
   "source": [
    "img, _ = cifar2[0]\n",
    "output = conv(img.unsqueeze(0))\n",
    "img.unsqueeze(0).shape, output.shape"
   ]
  },
  {
   "cell_type": "markdown",
   "id": "dc1ca79e-6c03-49ad-898f-38010e0bebac",
   "metadata": {},
   "source": [
    "##### 出力の最中にピクセルを失っている"
   ]
  },
  {
   "cell_type": "code",
   "execution_count": 28,
   "id": "a0698748-f75b-44fc-9a41-ffc192b0a153",
   "metadata": {},
   "outputs": [
    {
     "data": {
      "text/plain": [
       "<matplotlib.image.AxesImage at 0x7fc8abe91d00>"
      ]
     },
     "execution_count": 28,
     "metadata": {},
     "output_type": "execute_result"
    },
    {
     "data": {
      "image/png": "[encoded data removed]",
      "text/plain": [
       "<Figure size 432x288 with 2 Axes>"
      ]
     },
     "metadata": {
      "needs_background": "light"
     },
     "output_type": "display_data"
    }
   ],
   "source": [
    "fig, axes = plt.subplots(1, 2, sharex='all', sharey='all')\n",
    "\n",
    "axes[0].set_title('output')\n",
    "axes[0].imshow(output[0, 0].detach(), cmap='gray')\n",
    "\n",
    "axes[1].set_title('input')\n",
    "axes[1].imshow(img.mean(0), cmap='gray')"
   ]
  },
  {
   "cell_type": "code",
   "execution_count": 24,
   "id": "b01a7f6c-dc29-49ac-a735-0f3d39817ab2",
   "metadata": {},
   "outputs": [
    {
     "data": {
      "text/plain": [
       "(torch.Size([1, 3, 32, 32]), torch.Size([1, 1, 32, 32]))"
      ]
     },
     "execution_count": 24,
     "metadata": {},
     "output_type": "execute_result"
    }
   ],
   "source": [
    "conv = nn.Conv2d(3, 1, kernel_size=3, padding=1)\n",
    "output = conv(img.unsqueeze(0))\n",
    "img.unsqueeze(0).shape, output.shape"
   ]
  },
  {
   "cell_type": "markdown",
   "id": "40f87282-a78f-4153-87bd-65ecb9ec557b",
   "metadata": {},
   "source": [
    "### 畳み込みを用いた特徴量の検出"
   ]
  },
  {
   "cell_type": "code",
   "execution_count": 25,
   "id": "85366aef-f662-4a64-b8d8-3d521798ca30",
   "metadata": {},
   "outputs": [],
   "source": [
    "with torch.no_grad():\n",
    "    conv.bias.zero_()\n",
    "    \n",
    "with torch.no_grad():\n",
    "    conv.weight.fill_(1.0 / 9.0)"
   ]
  },
  {
   "cell_type": "code",
   "execution_count": 26,
   "id": "dd1ad23d-61fd-4818-a282-00b9fae0f9b7",
   "metadata": {},
   "outputs": [
    {
     "data": {
      "text/plain": [
       "<matplotlib.image.AxesImage at 0x7fc8c827f340>"
      ]
     },
     "execution_count": 26,
     "metadata": {},
     "output_type": "execute_result"
    },
    {
     "data": {
      "image/png": "[encoded data removed]",
      "text/plain": [
       "<Figure size 432x288 with 1 Axes>"
      ]
     },
     "metadata": {
      "needs_background": "light"
     },
     "output_type": "display_data"
    }
   ],
   "source": [
    "output = conv(img.unsqueeze(0))\n",
    "plt.imshow(output[0, 0].detach(), cmap='gray')"
   ]
  },
  {
   "cell_type": "code",
   "execution_count": 30,
   "id": "12a529bc-e22b-4975-b3c0-bd66ce164aff",
   "metadata": {},
   "outputs": [
    {
     "data": {
      "text/plain": [
       "<matplotlib.image.AxesImage at 0x7fc8b812a910>"
      ]
     },
     "execution_count": 30,
     "metadata": {},
     "output_type": "execute_result"
    },
    {
     "data": {
      "image/png": "[encoded data removed]",
      "text/plain": [
       "<Figure size 432x288 with 2 Axes>"
      ]
     },
     "metadata": {
      "needs_background": "light"
     },
     "output_type": "display_data"
    }
   ],
   "source": [
    "conv = nn.Conv2d(3, 1, kernel_size=3, padding=1)\n",
    "with torch.no_grad():\n",
    "    conv.weight[:] = torch.tensor([\n",
    "        [-1.0, 0.0, 1.0],\n",
    "        [-1.0, 0.0, 1.0],\n",
    "        [-1.0, 0.0, 1.0],\n",
    "    ])\n",
    "    conv.bias.zero_()\n",
    "out = conv(img.unsqueeze(0))\n",
    "    \n",
    "fig, axes = plt.subplots(1, 2, sharex='all', sharey='all')\n",
    "\n",
    "axes[0].set_title('output')\n",
    "axes[0].imshow(output[0, 0].detach(), cmap='gray')\n",
    "\n",
    "axes[1].set_title('input')\n",
    "axes[1].imshow(img.mean(0), cmap='gray')"
   ]
  },
  {
   "cell_type": "markdown",
   "id": "50abcb0b-c52c-4a20-bdb0-24320a5b5140",
   "metadata": {},
   "source": [
    "# 深さとプーリングの詳細"
   ]
  },
  {
   "cell_type": "code",
   "execution_count": 31,
   "id": "3d2283af-32bc-499a-99c5-e8f280cb0b84",
   "metadata": {},
   "outputs": [
    {
     "name": "stderr",
     "output_type": "stream",
     "text": [
      "/home/takakiyuto/anaconda3/lib/python3.8/site-packages/torch/nn/functional.py:718: UserWarning: Named tensors and all their associated APIs are an experimental feature and subject to change. Please do not use them for anything important until they are released as stable. (Triggered internally at  /opt/conda/conda-bld/pytorch_1623448234945/work/c10/core/TensorImpl.h:1156.)\n",
      "  return torch.max_pool2d(input, kernel_size, stride, padding, dilation, ceil_mode)\n"
     ]
    },
    {
     "data": {
      "text/plain": [
       "(torch.Size([1, 3, 32, 32]), torch.Size([1, 3, 16, 16]))"
      ]
     },
     "execution_count": 31,
     "metadata": {},
     "output_type": "execute_result"
    }
   ],
   "source": [
    "pool = nn.MaxPool2d(2)\n",
    "output = pool(img.unsqueeze(0))\n",
    "img.unsqueeze(0).shape, output.shape"
   ]
  },
  {
   "cell_type": "code",
   "execution_count": null,
   "id": "84e61722-1b4b-46ae-810a-19f6cabaa453",
   "metadata": {},
   "outputs": [],
   "source": [
    "model = nn.Sequential(\n",
    "    nn.Conv2d(3, 16, kernel_size=3, padding=1),\n",
    "    nn.Tanh(),\n",
    "    nn.MaxPool2d(2),\n",
    "    nn.Conv2d(16, 8, kernel_size=3, padding=1),\n",
    "    nn.Tanh(),\n",
    "    nn.MaxPool2d(2),\n",
    "    # ...\n",
    "    nn.Linear(8*8*8, 32),\n",
    "    nn.Tanh(),\n",
    "    nn.Linear(32, 2)\n",
    "   \n",
    ")"
   ]
  },
  {
   "cell_type": "markdown",
   "id": "af0c3dbd-ed73-4a68-8d8f-28f63ed7b8ad",
   "metadata": {},
   "source": [
    "# nn.Moduleを継承したモデルの構築方法"
   ]
  },
  {
   "cell_type": "code",
   "execution_count": 36,
   "id": "836e655b-382d-4559-bd7c-f0b6a0b88c8e",
   "metadata": {},
   "outputs": [],
   "source": [
    "class Net(nn.Module):\n",
    "    def __init__(self):\n",
    "        super().__init__()\n",
    "        self.conv1 = nn.Conv2d(3, 16, kernel_size=3, padding=1)\n",
    "        self.act1 = nn.Tanh()\n",
    "        self.pool1 = nn.MaxPool2d(2)\n",
    "        self.conv2 = nn.Conv2d(16, 8, kernel_size=3, padding=1)\n",
    "        self.act2 = nn.Tanh()\n",
    "        self.pool2 = nn.MaxPool2d(2)\n",
    "        self.fc1 = nn.Linear(8*8*8, 32)\n",
    "        self.act3 = nn.Tanh()\n",
    "        self.fc2 = nn.Linear(32, 2)\n",
    "        \n",
    "    def foward(self, x):\n",
    "        out = self.pool1(self.act1(self.conv1(x)))\n",
    "        out = self.pool2(self.act2(self.conv2(out)))\n",
    "        out = out.view(-1, 8*8*8)\n",
    "        out = self.act3(self.fc1(out))\n",
    "        out = self.fc2(out)\n",
    "        return out\n",
    "    \n",
    "model = Net()"
   ]
  },
  {
   "cell_type": "code",
   "execution_count": 37,
   "id": "f4ebf761-ccb8-4d18-b857-91a30e1af461",
   "metadata": {},
   "outputs": [
    {
     "data": {
      "text/plain": [
       "tensor([[0.1867, 0.1021]], grad_fn=<AddmmBackward>)"
      ]
     },
     "execution_count": 37,
     "metadata": {},
     "output_type": "execute_result"
    }
   ],
   "source": [
    "import torch.nn.functional as F\n",
    "\n",
    "class Net(nn.Module):\n",
    "    def __init__(self):\n",
    "        super().__init__()\n",
    "        self.conv1 = nn.Conv2d(3, 16, kernel_size=3, padding=1)\n",
    "        self.conv2 = nn.Conv2d(16, 8, kernel_size=3, padding=1)\n",
    "        self.fc1 = nn.Linear(8*8*8, 32)\n",
    "        self.fc2 = nn.Linear(32, 2)\n",
    "        \n",
    "    def forward(self, x):\n",
    "        out = F.max_pool2d(torch.tanh(self.conv1(x)), 2)\n",
    "        out = F.max_pool2d(torch.tanh(self.conv2(out)), 2)\n",
    "        out = out.view(-1, 8*8*8)\n",
    "        out = torch.tanh(self.fc1(out))\n",
    "        out = self.fc2(out)\n",
    "        return out\n",
    "    \n",
    "model = Net()\n",
    "model(img.unsqueeze(0))"
   ]
  },
  {
   "cell_type": "code",
   "execution_count": 38,
   "id": "7005d1a1-5221-423c-bba1-e80ea95dd118",
   "metadata": {},
   "outputs": [],
   "source": [
    "import datetime\n",
    "\n",
    "def training_loop(n_epochs, optimizer, model, loss_fn, train_loader):\n",
    "    for epoch in range(1, n_epochs+1):\n",
    "        loss_train = 0.0\n",
    "        for imgs, labels in train_loader:\n",
    "            outputs = model(imgs)\n",
    "            loss = loss_fn(outputs, labels)\n",
    "            optimizer.zero_grad()\n",
    "            loss.backward()\n",
    "            optimizer.step()\n",
    "            loss_train += loss.item()\n",
    "        if epoch == 1 or epoch % 10 == 0:\n",
    "            print(f'{datetime.datetime.now()} Epoch:{epoch} Training loss:{loss_train / len(train_loader)}')"
   ]
  },
  {
   "cell_type": "code",
   "execution_count": 42,
   "id": "62f5bd62-013d-41a2-ab5d-d484adf53be2",
   "metadata": {},
   "outputs": [
    {
     "name": "stdout",
     "output_type": "stream",
     "text": [
      "2021-09-11 15:41:32.518031 Epoch:1 Training loss:0.5594199601632015\n",
      "2021-09-11 15:41:37.848277 Epoch:10 Training loss:0.326911591895067\n",
      "2021-09-11 15:41:43.626300 Epoch:20 Training loss:0.2973861292858792\n",
      "2021-09-11 15:41:49.349453 Epoch:30 Training loss:0.26871143447555557\n",
      "2021-09-11 15:41:55.096020 Epoch:40 Training loss:0.24496800257901477\n",
      "2021-09-11 15:42:00.799045 Epoch:50 Training loss:0.22343783697504907\n",
      "2021-09-11 15:42:06.489823 Epoch:60 Training loss:0.20532057201786405\n",
      "2021-09-11 15:42:12.270290 Epoch:70 Training loss:0.1885204109226822\n",
      "2021-09-11 15:42:18.293543 Epoch:80 Training loss:0.17585693788566406\n",
      "2021-09-11 15:42:24.200561 Epoch:90 Training loss:0.16240367566229433\n",
      "2021-09-11 15:42:30.141586 Epoch:100 Training loss:0.14868802703015363\n"
     ]
    }
   ],
   "source": [
    "train_loader = \\\n",
    "    torch.utils.data.DataLoader(cifar2, batch_size=64, shuffle=True)\n",
    "\n",
    "model = Net()\n",
    "optimizer = optim.SGD(model.parameters(), lr=1e-2)\n",
    "loss_fn = nn.CrossEntropyLoss()\n",
    "\n",
    "training_loop(\n",
    "    n_epochs=100, optimizer=optimizer, model=model, loss_fn=loss_fn, train_loader=train_loader)"
   ]
  },
  {
   "cell_type": "code",
   "execution_count": 43,
   "id": "bc89c5e6-fbe8-4d95-b8f8-a7deaa2a104c",
   "metadata": {},
   "outputs": [
    {
     "name": "stdout",
     "output_type": "stream",
     "text": [
      "Accuracy train: 0.94\n",
      "Accuracy val: 0.89\n"
     ]
    }
   ],
   "source": [
    "train_loader = torch.utils.data.DataLoader(cifar2, batch_size=64,\n",
    "                                           shuffle=False)\n",
    "val_loader = torch.utils.data.DataLoader(cifar2_val, batch_size=64,\n",
    "                                         shuffle=False)\n",
    "\n",
    "def validate(model, train_loader, val_loader):\n",
    "    for name, loader in [(\"train\", train_loader), (\"val\", val_loader)]:\n",
    "        correct = 0\n",
    "        total = 0\n",
    "\n",
    "        with torch.no_grad():  # <1>\n",
    "            for imgs, labels in loader:\n",
    "                outputs = model(imgs)\n",
    "                _, predicted = torch.max(outputs, dim=1) # <2>\n",
    "                total += labels.shape[0]  # <3>\n",
    "                correct += int((predicted == labels).sum())  # <4>\n",
    "\n",
    "        print(\"Accuracy {}: {:.2f}\".format(name , correct / total))\n",
    "\n",
    "validate(model, train_loader, val_loader)\n"
   ]
  },
  {
   "cell_type": "markdown",
   "id": "b76976fe-e366-440d-b9a5-51b0f669fa9e",
   "metadata": {},
   "source": [
    "### モデルの保存と読み込み"
   ]
  },
  {
   "cell_type": "code",
   "execution_count": 44,
   "id": "00b0fc28-d3dc-49e2-829f-1b0880e3fd5f",
   "metadata": {},
   "outputs": [],
   "source": [
    "# torch.save(model.state_dict(), '.')\n",
    "# loaded_model = Net()\n",
    "# loaded_model.load_state_dict(torch.load('.'))"
   ]
  },
  {
   "cell_type": "code",
   "execution_count": 45,
   "id": "e4861a9d-d33b-4065-9fc7-3309e63c17bb",
   "metadata": {},
   "outputs": [
    {
     "name": "stdout",
     "output_type": "stream",
     "text": [
      "My device is cuda\n"
     ]
    }
   ],
   "source": [
    "device = ( torch.device('cuda') if torch.cuda.is_available() else torch.device('cpu'))\n",
    "print(f'My device is {device}')"
   ]
  },
  {
   "cell_type": "code",
   "execution_count": 46,
   "id": "b82ca6b4-2610-420c-a2fe-72d16d0befff",
   "metadata": {},
   "outputs": [],
   "source": [
    "import datetime\n",
    "\n",
    "def training_loop(n_epochs, optimizer, model, loss_fn, train_loader):\n",
    "    for epoch in range(1, n_epochs+1):\n",
    "        loss_train = 0.0\n",
    "        for imgs, labels in train_loader:\n",
    "            imgs = imgs.to(device=device)\n",
    "            labels = labels.to(device=device)\n",
    "            outputs = model(imgs)\n",
    "            loss = loss_fn(outputs, labels)\n",
    "            optimizer.zero_grad()\n",
    "            loss.backward()\n",
    "            optimizer.step()\n",
    "            loss_train += loss.item()\n",
    "        if epoch == 1 or epoch % 10 == 0:\n",
    "            print(f'{datetime.datetime.now()} Epoch:{epoch} Training loss:{loss_train / len(train_loader)}')"
   ]
  },
  {
   "cell_type": "code",
   "execution_count": 47,
   "id": "c88672aa-498e-4de3-b884-834fb7d17d5b",
   "metadata": {},
   "outputs": [
    {
     "name": "stdout",
     "output_type": "stream",
     "text": [
      "2021-09-11 15:53:24.742904 Epoch:1 Training loss:0.5894205293078332\n",
      "2021-09-11 15:53:26.470644 Epoch:10 Training loss:0.34183576987807157\n",
      "2021-09-11 15:53:28.400637 Epoch:20 Training loss:0.30403258903011393\n",
      "2021-09-11 15:53:30.346150 Epoch:30 Training loss:0.2757378951379448\n",
      "2021-09-11 15:53:32.266400 Epoch:40 Training loss:0.25775556441894765\n",
      "2021-09-11 15:53:34.212446 Epoch:50 Training loss:0.2376877579624486\n",
      "2021-09-11 15:53:36.163850 Epoch:60 Training loss:0.2206636991375571\n",
      "2021-09-11 15:53:38.085423 Epoch:70 Training loss:0.20521743035620185\n",
      "2021-09-11 15:53:40.049732 Epoch:80 Training loss:0.18929364935607668\n",
      "2021-09-11 15:53:42.022920 Epoch:90 Training loss:0.17344879285450193\n",
      "2021-09-11 15:53:43.989137 Epoch:100 Training loss:0.15951902813212887\n"
     ]
    }
   ],
   "source": [
    "train_loader = \\\n",
    "    torch.utils.data.DataLoader(cifar2, batch_size=64, shuffle=True)\n",
    "\n",
    "model = Net().to(device=device)\n",
    "optimizer = optim.SGD(model.parameters(), lr=1e-2)\n",
    "loss_fn = nn.CrossEntropyLoss()\n",
    "\n",
    "training_loop(\n",
    "    n_epochs=100, optimizer=optimizer, model=model, loss_fn=loss_fn, train_loader=train_loader)"
   ]
  },
  {
   "cell_type": "markdown",
   "id": "b0a79620-b914-419d-aca1-6d436fa47ec3",
   "metadata": {},
   "source": [
    "# 複雑なモデルの作り方"
   ]
  },
  {
   "cell_type": "markdown",
   "id": "3dbd4034-e13f-4c48-9bcc-cc889b64c266",
   "metadata": {},
   "source": [
    "#### Not Hard Coding"
   ]
  },
  {
   "cell_type": "code",
   "execution_count": 50,
   "id": "cd502e7e-4ae6-4e11-8106-79afaf25be64",
   "metadata": {},
   "outputs": [
    {
     "data": {
      "text/plain": [
       "38386"
      ]
     },
     "execution_count": 50,
     "metadata": {},
     "output_type": "execute_result"
    }
   ],
   "source": [
    "import torch.nn.functional as F\n",
    "\n",
    "class NetWidth(nn.Module):\n",
    "    def __init__(self, n_chans1=32):\n",
    "        super().__init__()\n",
    "        self.conv1 = nn.Conv2d(3, n_chans1, kernel_size=3, padding=1)\n",
    "        self.conv2 = nn.Conv2d(n_chans1, n_chans1 // 2, kernel_size=3, padding=1)\n",
    "        self.fc1 = nn.Linear(8*8*(n_chans1//2), 32)\n",
    "        self.fc2 = nn.Linear(32, 2)\n",
    "        \n",
    "    def forward(self, x):\n",
    "        out = F.max_pool2d(torch.tanh(self.conv1(x)), 2)\n",
    "        out = F.max_pool2d(torch.tanh(self.conv2(out)), 2)\n",
    "        out = out.view(-1, 8*8*(n_chans1//2))\n",
    "        out = torch.tanh(self.fc1(out))\n",
    "        out = self.fc2(out)\n",
    "        return out\n",
    "    \n",
    "model = NetWidth()\n",
    "\n",
    "sum(p.numel() for p in model.parameters())"
   ]
  },
  {
   "cell_type": "code",
   "execution_count": 62,
   "id": "ef2596ee-b4dd-4cd9-8af6-507336a82b21",
   "metadata": {},
   "outputs": [],
   "source": [
    "def training_loop_l2reg(n_epochs, optimizer, model, loss_fn,\n",
    "                       train_loader):\n",
    "    for epoch in range(1, n_epochs+1):\n",
    "        loss_train = 0.0\n",
    "        for imgs, labels in train_loader:\n",
    "            imgs = imgs.to(device=device)\n",
    "            labels = labels.to(device=device)\n",
    "            outputs = model(imgs)\n",
    "            loss = loss_fn(outputs, labels)\n",
    "            \n",
    "            l2_lambda = 0.001\n",
    "            l2_norm = sum(p.pow(2.0).sum() for p in model.parameters())\n",
    "            loss = loss + l2_lambda * l2_norm\n",
    "            \n",
    "            optimizer.zero_grad()\n",
    "            loss.backward()\n",
    "            optimizer.step()\n",
    "            \n",
    "            loss_train += loss.item()\n",
    "            \n",
    "        if epoch == 1 or epoch % 10 == 0:\n",
    "            print('{} epoch:{} traing_loss:{}'.format(datetime.datetime.now(), epoch, loss_train / len(train_loader)))"
   ]
  },
  {
   "cell_type": "code",
   "execution_count": 63,
   "id": "b73d2e45-8592-4afe-9bb3-3f0a8ddcd72b",
   "metadata": {},
   "outputs": [],
   "source": [
    "train_loader = torch.utils.data.DataLoader(cifar2, batch_size=64,\n",
    "                                           shuffle=False)\n",
    "val_loader = torch.utils.data.DataLoader(cifar2_val, batch_size=64,\n",
    "                                         shuffle=False)\n",
    "all_acc_dict = collections.OrderedDict()\n",
    "\n",
    "def validate(model, train_loader, val_loader):\n",
    "    accdict = {}\n",
    "    for name, loader in [(\"train\", train_loader), (\"val\", val_loader)]:\n",
    "        correct = 0\n",
    "        total = 0\n",
    "\n",
    "        with torch.no_grad():\n",
    "            for imgs, labels in loader:\n",
    "                imgs = imgs.to(device=device)\n",
    "                labels = labels.to(device=device)\n",
    "                outputs = model(imgs)\n",
    "                _, predicted = torch.max(outputs, dim=1) # <1>\n",
    "                total += labels.shape[0]\n",
    "                correct += int((predicted == labels).sum())\n",
    "\n",
    "        print(\"Accuracy {}: {:.2f}\".format(name , correct / total))\n",
    "        accdict[name] = correct / total\n",
    "    return accdict"
   ]
  },
  {
   "cell_type": "code",
   "execution_count": 64,
   "id": "db8724d2-745c-49ad-9d2b-67b4d5a1621c",
   "metadata": {},
   "outputs": [
    {
     "name": "stdout",
     "output_type": "stream",
     "text": [
      "2021-09-11 17:57:23.175590 epoch:1 traing_loss:0.6007275467465638\n",
      "2021-09-11 17:57:25.615548 epoch:10 traing_loss:0.3577278071338204\n",
      "2021-09-11 17:57:28.322294 epoch:20 traing_loss:0.31634325975445426\n",
      "2021-09-11 17:57:31.004577 epoch:30 traing_loss:0.2920622362452707\n",
      "2021-09-11 17:57:33.722083 epoch:40 traing_loss:0.2752203892940169\n",
      "2021-09-11 17:57:36.484701 epoch:50 traing_loss:0.2609564902106668\n",
      "2021-09-11 17:57:39.207807 epoch:60 traing_loss:0.24837134104625436\n",
      "2021-09-11 17:57:41.944228 epoch:70 traing_loss:0.23716671817052137\n",
      "2021-09-11 17:57:44.682719 epoch:80 traing_loss:0.22701346228836447\n",
      "2021-09-11 17:57:47.398975 epoch:90 traing_loss:0.2174269067254036\n",
      "2021-09-11 17:57:50.132966 epoch:100 traing_loss:0.20837268423122965\n",
      "Accuracy train: 0.93\n",
      "Accuracy val: 0.89\n"
     ]
    },
    {
     "data": {
      "text/plain": [
       "{'train': 0.9296, 'val': 0.891}"
      ]
     },
     "execution_count": 64,
     "metadata": {},
     "output_type": "execute_result"
    }
   ],
   "source": [
    "model = Net().to(device=device)\n",
    "optimizer = optim.SGD(model.parameters(), lr=1e-2)\n",
    "loss_fn = nn.CrossEntropyLoss()\n",
    "\n",
    "training_loop_l2reg(\n",
    "    n_epochs=100, optimizer=optimizer, model=model, loss_fn=loss_fn, train_loader=train_loader)\n",
    "\n",
    "validate(model, train_loader, val_loader)"
   ]
  },
  {
   "cell_type": "code",
   "execution_count": 66,
   "id": "718fe6d4-e285-4c2b-b308-230f53bd3539",
   "metadata": {},
   "outputs": [
    {
     "name": "stdout",
     "output_type": "stream",
     "text": [
      "2021-09-11 18:14:18.094408 Epoch:1 Training loss:0.5873288386946272\n",
      "2021-09-11 18:14:20.182227 Epoch:10 Training loss:0.3828128615192547\n",
      "2021-09-11 18:14:22.504253 Epoch:20 Training loss:0.3502990655648481\n",
      "2021-09-11 18:14:24.862107 Epoch:30 Training loss:0.32944151018835177\n",
      "2021-09-11 18:14:27.298335 Epoch:40 Training loss:0.31605550390519915\n",
      "2021-09-11 18:14:29.663508 Epoch:50 Training loss:0.2992375077335698\n",
      "2021-09-11 18:14:32.027056 Epoch:60 Training loss:0.2810050861281195\n",
      "2021-09-11 18:14:34.363624 Epoch:70 Training loss:0.27466663917538464\n",
      "2021-09-11 18:14:36.692403 Epoch:80 Training loss:0.2563551850379652\n",
      "2021-09-11 18:14:39.015191 Epoch:90 Training loss:0.2516549950002865\n",
      "2021-09-11 18:14:41.337349 Epoch:100 Training loss:0.2409030780860573\n",
      "Accuracy train: 0.90\n",
      "Accuracy val: 0.88\n"
     ]
    },
    {
     "data": {
      "text/plain": [
       "{'train': 0.9014, 'val': 0.881}"
      ]
     },
     "execution_count": 66,
     "metadata": {},
     "output_type": "execute_result"
    }
   ],
   "source": [
    "import torch.nn.functional as F\n",
    "\n",
    "class NetDropout(nn.Module):\n",
    "    def __init__(self, n_chans1=32):\n",
    "        super().__init__()\n",
    "        self.n_chans1 = n_chans1\n",
    "        self.conv1 = nn.Conv2d(3, n_chans1, kernel_size=3, padding=1)\n",
    "        self.conv1_dropout = nn.Dropout2d(p=0.4)\n",
    "        self.conv2 = nn.Conv2d(n_chans1, n_chans1 // 2, kernel_size=3, padding=1)\n",
    "        self.conv2_dropout = nn.Dropout2d(p=0.4)\n",
    "        self.fc1 = nn.Linear(8*8*(n_chans1//2), 32)\n",
    "        self.fc2 = nn.Linear(32, 2)\n",
    "        \n",
    "    def forward(self, x):\n",
    "        out = F.max_pool2d(torch.tanh(self.conv1(x)), 2)\n",
    "        out = self.conv1_dropout(out)\n",
    "        out = F.max_pool2d(torch.tanh(self.conv2(out)), 2)\n",
    "        out = self.conv2_dropout(out)\n",
    "        out = out.view(-1, 8*8*(self.n_chans1//2))\n",
    "        out = torch.tanh(self.fc1(out))\n",
    "        out = self.fc2(out)\n",
    "        return out\n",
    "    \n",
    "model = NetDropout().to(device=device)\n",
    "optimizer = optim.SGD(model.parameters(), lr=1e-2)\n",
    "loss_fn = nn.CrossEntropyLoss()\n",
    "\n",
    "training_loop(\n",
    "    n_epochs = 100,\n",
    "    optimizer = optimizer,\n",
    "    model = model,\n",
    "    loss_fn = loss_fn,\n",
    "    train_loader = train_loader,\n",
    ")\n",
    "\n",
    "validate(model, train_loader, val_loader)"
   ]
  },
  {
   "cell_type": "code",
   "execution_count": 69,
   "id": "82e6a0b9-ca9e-444e-ba2b-2fd01f6eccd9",
   "metadata": {},
   "outputs": [
    {
     "name": "stdout",
     "output_type": "stream",
     "text": [
      "2021-09-11 19:12:36.998016 Epoch:1 Training loss:0.43732480809187435\n",
      "2021-09-11 19:12:39.409113 Epoch:10 Training loss:0.2718054237449245\n",
      "2021-09-11 19:12:42.083174 Epoch:20 Training loss:0.2075935203083761\n",
      "2021-09-11 19:12:44.811678 Epoch:30 Training loss:0.15463432121523626\n",
      "2021-09-11 19:12:47.498333 Epoch:40 Training loss:0.10995554971467157\n",
      "2021-09-11 19:12:50.203976 Epoch:50 Training loss:0.0727486589887909\n",
      "2021-09-11 19:12:52.901878 Epoch:60 Training loss:0.04611814921354033\n",
      "2021-09-11 19:12:55.583401 Epoch:70 Training loss:0.030036379915371444\n",
      "2021-09-11 19:12:58.245852 Epoch:80 Training loss:0.01904534883678529\n",
      "2021-09-11 19:13:00.929898 Epoch:90 Training loss:0.011827063660736487\n",
      "2021-09-11 19:13:03.610620 Epoch:100 Training loss:0.007807591434710535\n",
      "Accuracy train: 0.99\n",
      "Accuracy val: 0.88\n"
     ]
    },
    {
     "data": {
      "text/plain": [
       "{'train': 0.9876, 'val': 0.8765}"
      ]
     },
     "execution_count": 69,
     "metadata": {},
     "output_type": "execute_result"
    }
   ],
   "source": [
    "class NetBatchNorm(nn.Module):\n",
    "    def __init__(self, n_chans1=32):\n",
    "        super().__init__()\n",
    "        self.n_chans1 = n_chans1\n",
    "        self.conv1 = nn.Conv2d(3, n_chans1, kernel_size=3, padding=1)\n",
    "        self.conv1_batchnorm = nn.BatchNorm2d(num_features=n_chans1)\n",
    "        self.conv2 = nn.Conv2d(n_chans1, n_chans1 // 2, kernel_size=3, padding=1)\n",
    "        self.conv2_batchnorm = nn.BatchNorm2d(num_features=n_chans1 // 2)\n",
    "        self.fc1 = nn.Linear(8*8*(n_chans1//2), 32)\n",
    "        self.fc2 = nn.Linear(32, 2)\n",
    "        \n",
    "    def forward(self, x):\n",
    "        out = self.conv1_batchnorm(self.conv1(x))\n",
    "        out = F.max_pool2d(torch.tanh(out), 2)\n",
    "        out = self.conv2_batchnorm(self.conv2(out))\n",
    "        out = F.max_pool2d(torch.tanh(out), 2)\n",
    "        out = out.view(-1, 8 * 8 * self.n_chans1 // 2)\n",
    "        out = torch.tanh(self.fc1(out))\n",
    "        out = self.fc2(out)\n",
    "        return out\n",
    "    \n",
    "model = NetBatchNorm().to(device=device)\n",
    "optimizer = optim.SGD(model.parameters(), lr=1e-2)\n",
    "loss_fn = nn.CrossEntropyLoss()\n",
    "\n",
    "training_loop(\n",
    "    n_epochs = 100,\n",
    "    optimizer = optimizer,\n",
    "    model = model,\n",
    "    loss_fn = loss_fn,\n",
    "    train_loader = train_loader,\n",
    ")\n",
    "\n",
    "validate(model, train_loader, val_loader)"
   ]
  },
  {
   "cell_type": "markdown",
   "id": "1ae16481-caf9-4e5b-94c7-b7d942e0ea4a",
   "metadata": {},
   "source": [
    "### 複雑な構造体を学習するためにより深く：深さ"
   ]
  },
  {
   "cell_type": "code",
   "execution_count": 70,
   "id": "cd18facb-0237-4bb9-a843-369cce798f5b",
   "metadata": {},
   "outputs": [],
   "source": [
    "class NetDepth(nn.Module):\n",
    "    def __init__(self, n_chans1=32):\n",
    "        super().__init__()\n",
    "        self.n_chans1 = n_chans1\n",
    "        self.conv1 = nn.Conv2d(3, n_chans1, kernel_size=3, padding=1)\n",
    "        self.conv2 = nn.Conv2d(n_chans1, n_chans1 // 2, kernel_size=3,\n",
    "                               padding=1)\n",
    "        self.conv3 = nn.Conv2d(n_chans1 // 2, n_chans1 // 2,\n",
    "                               kernel_size=3, padding=1)\n",
    "        self.fc1 = nn.Linear(4 * 4 * n_chans1 // 2, 32)\n",
    "        self.fc2 = nn.Linear(32, 2)\n",
    "        \n",
    "    def forward(self, x):\n",
    "        out = F.max_pool2d(torch.relu(self.conv1(x)), 2)\n",
    "        out = F.max_pool2d(torch.relu(self.conv2(out)), 2)\n",
    "        out = F.max_pool2d(torch.relu(self.conv3(out)), 2)\n",
    "        out = out.view(-1, 4 * 4 * self.n_chans1 // 2)\n",
    "        out = torch.relu(self.fc1(out))\n",
    "        out = self.fc2(out)\n",
    "        return out"
   ]
  },
  {
   "cell_type": "code",
   "execution_count": 71,
   "id": "1367d4a0-8eaa-4193-915d-a699d75f1985",
   "metadata": {},
   "outputs": [],
   "source": [
    "class NetRes(nn.Module):\n",
    "    def __init__(self, n_chans1=32):\n",
    "        super().__init__()\n",
    "        self.n_chans1 = n_chans1\n",
    "        self.conv1 = nn.Conv2d(3, n_chans1, kernel_size=3, padding=1)\n",
    "        self.conv2 = nn.Conv2d(n_chans1, n_chans1 // 2, kernel_size=3,\n",
    "                               padding=1)\n",
    "        self.conv3 = nn.Conv2d(n_chans1 // 2, n_chans1 // 2,\n",
    "                               kernel_size=3, padding=1)\n",
    "        self.fc1 = nn.Linear(4 * 4 * n_chans1 // 2, 32)\n",
    "        self.fc2 = nn.Linear(32, 2)\n",
    "        \n",
    "    def forward(self, x):\n",
    "        out = F.max_pool2d(torch.relu(self.conv1(x)), 2)\n",
    "        out = F.max_pool2d(torch.relu(self.conv2(out)), 2)\n",
    "        out1 = out\n",
    "        out = F.max_pool2d(torch.relu(self.conv3(out)) + out1, 2)\n",
    "        out = out.view(-1, 4 * 4 * self.n_chans1 // 2)\n",
    "        out = torch.relu(self.fc1(out))\n",
    "        out = self.fc2(out)\n",
    "        return out"
   ]
  },
  {
   "cell_type": "code",
   "execution_count": 72,
   "id": "81cc36f2-4d47-4f71-9c69-294e094eddec",
   "metadata": {},
   "outputs": [
    {
     "name": "stdout",
     "output_type": "stream",
     "text": [
      "2021-09-11 19:17:44.653799 Epoch:1 Training loss:0.6116384047611504\n",
      "2021-09-11 19:17:46.936711 Epoch:10 Training loss:0.3229008746944415\n",
      "2021-09-11 19:17:49.476489 Epoch:20 Training loss:0.28226927150586606\n",
      "2021-09-11 19:17:52.014635 Epoch:30 Training loss:0.24881000551068858\n",
      "2021-09-11 19:17:54.555237 Epoch:40 Training loss:0.22293536711460465\n",
      "2021-09-11 19:17:57.087289 Epoch:50 Training loss:0.19957167579300084\n",
      "2021-09-11 19:17:59.604232 Epoch:60 Training loss:0.17581831701811712\n",
      "2021-09-11 19:18:02.118089 Epoch:70 Training loss:0.15098332955389265\n",
      "2021-09-11 19:18:04.622451 Epoch:80 Training loss:0.12617993993079588\n",
      "2021-09-11 19:18:07.118010 Epoch:90 Training loss:0.10363955553739694\n",
      "2021-09-11 19:18:09.630207 Epoch:100 Training loss:0.09222385184068209\n",
      "Accuracy train: 0.97\n",
      "Accuracy val: 0.89\n"
     ]
    },
    {
     "data": {
      "text/plain": [
       "{'train': 0.9656, 'val': 0.8885}"
      ]
     },
     "execution_count": 72,
     "metadata": {},
     "output_type": "execute_result"
    }
   ],
   "source": [
    "model = NetRes().to(device=device)\n",
    "optimizer = optim.SGD(model.parameters(), lr=1e-2)\n",
    "loss_fn = nn.CrossEntropyLoss()\n",
    "\n",
    "training_loop(\n",
    "    n_epochs = 100,\n",
    "    optimizer = optimizer,\n",
    "    model = model,\n",
    "    loss_fn = loss_fn,\n",
    "    train_loader = train_loader,\n",
    ")\n",
    "\n",
    "validate(model, train_loader, val_loader)"
   ]
  },
  {
   "cell_type": "code",
   "execution_count": null,
   "id": "f13ca8dc-b1ab-4fe7-a7e3-da7a1cfd239e",
   "metadata": {},
   "outputs": [],
   "source": []
  }
 ],
 "metadata": {
  "kernelspec": {
   "display_name": "Python 3",
   "language": "python",
   "name": "python3"
  },
  "language_info": {
   "codemirror_mode": {
    "name": "ipython",
    "version": 3
   },
   "file_extension": ".py",
   "mimetype": "text/x-python",
   "name": "python",
   "nbconvert_exporter": "python",
   "pygments_lexer": "ipython3",
   "version": "3.8.8"
  }
 },
 "nbformat": 4,
 "nbformat_minor": 5
}
