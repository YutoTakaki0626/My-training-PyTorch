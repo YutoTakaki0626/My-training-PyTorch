{
 "cells": [
  {
   "cell_type": "code",
   "execution_count": 15,
   "id": "d60f7722-3d7d-4744-a277-59cbb8f33fdd",
   "metadata": {},
   "outputs": [
    {
     "name": "stdout",
     "output_type": "stream",
     "text": [
      "The autoreload extension is already loaded. To reload it, use:\n",
      "  %reload_ext autoreload\n"
     ]
    }
   ],
   "source": [
    "%load_ext autoreload\n",
    "%autoreload 2"
   ]
  },
  {
   "cell_type": "code",
   "execution_count": 16,
   "id": "0f040c61-5ea4-4721-a14f-3f94151c6390",
   "metadata": {},
   "outputs": [],
   "source": [
    "%matplotlib inline\n",
    "import matplotlib.pyplot as plt"
   ]
  },
  {
   "cell_type": "code",
   "execution_count": 18,
   "id": "fd52621f-23d2-47ee-9c6a-cf06b84116a8",
   "metadata": {},
   "outputs": [
    {
     "ename": "IndentationError",
     "evalue": "unindent does not match any outer indentation level (dsets.py, line 92)",
     "output_type": "error",
     "traceback": [
      "Traceback \u001b[0;36m(most recent call last)\u001b[0m:\n",
      "  File \u001b[1;32m\"/home/takakiyuto/anaconda3/lib/python3.8/site-packages/IPython/core/interactiveshell.py\"\u001b[0m, line \u001b[1;32m3437\u001b[0m, in \u001b[1;35mrun_code\u001b[0m\n    exec(code_obj, self.user_global_ns, self.user_ns)\n",
      "\u001b[0;36m  File \u001b[0;32m\"<ipython-input-18-e0d8bbfb3cc2>\"\u001b[0;36m, line \u001b[0;32m1\u001b[0;36m, in \u001b[0;35m<module>\u001b[0;36m\u001b[0m\n\u001b[0;31m    from dsets import getCandidateInfoList, getCt, LunaDataset\u001b[0m\n",
      "\u001b[0;36m  File \u001b[0;32m\"/home/takakiyuto/Desktop/My-training-PyTorch/sec10/dsets.py\"\u001b[0;36m, line \u001b[0;32m92\u001b[0m\n\u001b[0;31m    def getRawCandidate(self, center_xyz, width_irc):\u001b[0m\n\u001b[0m                                                     ^\u001b[0m\n\u001b[0;31mIndentationError\u001b[0m\u001b[0;31m:\u001b[0m unindent does not match any outer indentation level\n"
     ]
    }
   ],
   "source": [
    "from dsets import getCandidateInfoList, getCt, LunaDataset\n",
    "candidateInfo_list = getCandidateInfoList(requireOnDisk_bool=False)\n",
    "positiveInfo_list = [x for x in candidateInfo_list if x[0]]\n",
    "diameter_list = [x[1] for x in positiveInfo_list]"
   ]
  },
  {
   "cell_type": "code",
   "execution_count": 26,
   "id": "d61f29d4-067e-40ae-9a7e-769ccb3f2275",
   "metadata": {},
   "outputs": [
    {
     "data": {
      "text/plain": [
       "('non_file', <http.client.HTTPMessage at 0x7fc3c72b6160>)"
      ]
     },
     "execution_count": 26,
     "metadata": {},
     "output_type": "execute_result"
    }
   ],
   "source": [
    "import urllib.request\n",
    "\n",
    "url = 'https://zenodo.org/record/3723295/files/annotations.csv?download=1'\n",
    "save_name = 'non_file'\n",
    "\n",
    "urllib.request.urlretrieve(url, save_name)"
   ]
  },
  {
   "cell_type": "code",
   "execution_count": null,
   "id": "3742692a-d620-47b1-9e52-08f5f32585a6",
   "metadata": {},
   "outputs": [],
   "source": []
  },
  {
   "cell_type": "code",
   "execution_count": null,
   "id": "14743027-f8fd-4232-80ba-297310ff8a58",
   "metadata": {},
   "outputs": [],
   "source": []
  }
 ],
 "metadata": {
  "kernelspec": {
   "display_name": "Python 3",
   "language": "python",
   "name": "python3"
  },
  "language_info": {
   "codemirror_mode": {
    "name": "ipython",
    "version": 3
   },
   "file_extension": ".py",
   "mimetype": "text/x-python",
   "name": "python",
   "nbconvert_exporter": "python",
   "pygments_lexer": "ipython3",
   "version": "3.8.8"
  }
 },
 "nbformat": 4,
 "nbformat_minor": 5
}
