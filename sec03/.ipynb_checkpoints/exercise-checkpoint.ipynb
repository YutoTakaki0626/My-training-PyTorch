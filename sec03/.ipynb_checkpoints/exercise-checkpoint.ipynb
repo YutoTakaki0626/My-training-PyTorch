{
 "cells": [
  {
   "cell_type": "code",
   "execution_count": 1,
   "id": "f2c7ae09-7e33-4ca8-bcad-aed31eee6747",
   "metadata": {},
   "outputs": [],
   "source": [
    "import torch\n",
    "import numpy"
   ]
  },
  {
   "cell_type": "markdown",
   "id": "04f7977f-dd53-4c10-85eb-6f3a696d8e15",
   "metadata": {},
   "source": [
    "# 1"
   ]
  },
  {
   "cell_type": "code",
   "execution_count": 3,
   "id": "e485798e-2c1d-4613-9c42-31bf571e7033",
   "metadata": {},
   "outputs": [
    {
     "name": "stdout",
     "output_type": "stream",
     "text": [
      "サイズ:torch.Size([9])\n",
      "オフセット:0\n",
      "ストライド:(1,)\n"
     ]
    }
   ],
   "source": [
    "a = torch.tensor(list(range(9)))\n",
    "print(f'サイズ:{a.shape}')\n",
    "print(f'オフセット:{a.storage_offset()}')\n",
    "print(f'ストライド:{a.stride()}')"
   ]
  },
  {
   "cell_type": "code",
   "execution_count": 5,
   "id": "d4f62709-f121-45df-a97f-c66380edbc03",
   "metadata": {},
   "outputs": [
    {
     "data": {
      "text/plain": [
       "tensor([[0, 1, 2],\n",
       "        [3, 4, 5],\n",
       "        [6, 7, 8]])"
      ]
     },
     "execution_count": 5,
     "metadata": {},
     "output_type": "execute_result"
    }
   ],
   "source": [
    "b = a.view(3, 3)\n",
    "b"
   ]
  },
  {
   "cell_type": "code",
   "execution_count": 8,
   "id": "d1493f52-5969-4f24-8732-7e9d11f48ecd",
   "metadata": {},
   "outputs": [
    {
     "name": "stdout",
     "output_type": "stream",
     "text": [
      "サイズ:torch.Size([3, 3])\n",
      "オフセット:0\n",
      "ストライド:(3, 1)\n"
     ]
    }
   ],
   "source": [
    "print(f'サイズ:{b.shape}')\n",
    "print(f'オフセット:{b.storage_offset()}')\n",
    "print(f'ストライド:{b.stride()}')"
   ]
  },
  {
   "cell_type": "code",
   "execution_count": 7,
   "id": "abed684c-85da-43b6-bd54-ba0270c77e40",
   "metadata": {},
   "outputs": [
    {
     "data": {
      "text/plain": [
       "True"
      ]
     },
     "execution_count": 7,
     "metadata": {},
     "output_type": "execute_result"
    }
   ],
   "source": [
    "id(a.storage()) == id(b.storage())"
   ]
  },
  {
   "cell_type": "code",
   "execution_count": 9,
   "id": "14af4cdd-445c-48bf-9a4d-2806de7080fb",
   "metadata": {},
   "outputs": [
    {
     "name": "stdout",
     "output_type": "stream",
     "text": [
      "サイズ:torch.Size([2, 2])\n",
      "オフセット:4\n",
      "ストライド:(3, 1)\n"
     ]
    }
   ],
   "source": [
    "c = b[1:, 1:]\n",
    "print(f'サイズ:{c.shape}')\n",
    "print(f'オフセット:{c.storage_offset()}')\n",
    "print(f'ストライド:{c.stride()}')"
   ]
  },
  {
   "cell_type": "markdown",
   "id": "b7901936-5841-4933-8f86-da7d3fffd45c",
   "metadata": {},
   "source": [
    "# 2"
   ]
  },
  {
   "cell_type": "code",
   "execution_count": 11,
   "id": "2e5dea22-8e36-4164-b0a3-6e8602ee3e7b",
   "metadata": {},
   "outputs": [
    {
     "ename": "RuntimeError",
     "evalue": "cos_vml_cpu not implemented for 'Long'",
     "output_type": "error",
     "traceback": [
      "\u001b[0;31m---------------------------------------------------------------------------\u001b[0m",
      "\u001b[0;31mRuntimeError\u001b[0m                              Traceback (most recent call last)",
      "\u001b[0;32m<ipython-input-11-780513e264a2>\u001b[0m in \u001b[0;36m<module>\u001b[0;34m\u001b[0m\n\u001b[0;32m----> 1\u001b[0;31m \u001b[0mprint\u001b[0m\u001b[0;34m(\u001b[0m\u001b[0mtorch\u001b[0m\u001b[0;34m.\u001b[0m\u001b[0mcos\u001b[0m\u001b[0;34m(\u001b[0m\u001b[0ma\u001b[0m\u001b[0;34m)\u001b[0m\u001b[0;34m)\u001b[0m\u001b[0;34m\u001b[0m\u001b[0;34m\u001b[0m\u001b[0m\n\u001b[0m",
      "\u001b[0;31mRuntimeError\u001b[0m: cos_vml_cpu not implemented for 'Long'"
     ]
    }
   ],
   "source": [
    "print(torch.cos(a))"
   ]
  },
  {
   "cell_type": "code",
   "execution_count": 16,
   "id": "6859823e-06b3-4917-9131-2a96131d78c7",
   "metadata": {},
   "outputs": [
    {
     "name": "stdout",
     "output_type": "stream",
     "text": [
      "tensor([ 1.0000,  0.5403, -0.4161, -0.9900, -0.6536,  0.2837,  0.9602,  0.7539,\n",
      "        -0.1455])\n"
     ]
    }
   ],
   "source": [
    "print(torch.cos(a.float()))"
   ]
  },
  {
   "cell_type": "code",
   "execution_count": null,
   "id": "a343bb17-ee56-4d81-84ae-b78677ef0104",
   "metadata": {},
   "outputs": [],
   "source": []
  }
 ],
 "metadata": {
  "kernelspec": {
   "display_name": "Python 3",
   "language": "python",
   "name": "python3"
  },
  "language_info": {
   "codemirror_mode": {
    "name": "ipython",
    "version": 3
   },
   "file_extension": ".py",
   "mimetype": "text/x-python",
   "name": "python",
   "nbconvert_exporter": "python",
   "pygments_lexer": "ipython3",
   "version": "3.8.2"
  }
 },
 "nbformat": 4,
 "nbformat_minor": 5
}
