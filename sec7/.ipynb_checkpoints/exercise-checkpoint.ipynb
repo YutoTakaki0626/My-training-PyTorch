{
 "cells": [
  {
   "cell_type": "code",
   "execution_count": 1,
   "id": "74ad5b4e-6484-4bf5-8753-9fbf921b27f5",
   "metadata": {},
   "outputs": [
    {
     "data": {
      "text/plain": [
       "<torch._C.Generator at 0x7f27734e4410>"
      ]
     },
     "execution_count": 1,
     "metadata": {},
     "output_type": "execute_result"
    }
   ],
   "source": [
    "%matplotlib inline\n",
    "from matplotlib import pyplot as plt\n",
    "import numpy as np\n",
    "import torch\n",
    "\n",
    "from torchvision import datasets\n",
    "from torchvision import transforms\n",
    "\n",
    "torch.manual_seed(123)"
   ]
  },
  {
   "cell_type": "code",
   "execution_count": 2,
   "id": "eac2c0ab-95c6-473f-87fc-c410ffc0fc58",
   "metadata": {},
   "outputs": [
    {
     "name": "stdout",
     "output_type": "stream",
     "text": [
      "Files already downloaded and verified\n",
      "Files already downloaded and verified\n"
     ]
    }
   ],
   "source": [
    "data_path = \"../data-unversioned/p1ch7/\"\n",
    "\n",
    "cifar10 = datasets.CIFAR10(data_path, train=True, download=True) # <1>\n",
    "cifar10_val = datasets.CIFAR10(data_path, train=False, download=True) # <2>"
   ]
  },
  {
   "cell_type": "markdown",
   "id": "f1d2ef04-64fe-4d01-b331-3b87cf41f7bd",
   "metadata": {},
   "source": [
    "# 1"
   ]
  },
  {
   "cell_type": "code",
   "execution_count": 3,
   "id": "4c24c53c-0210-47d5-8fff-0aeb9a4ba2a7",
   "metadata": {},
   "outputs": [
    {
     "name": "stdout",
     "output_type": "stream",
     "text": [
      "Files already downloaded and verified\n"
     ]
    }
   ],
   "source": [
    "transformed_cifar10 = datasets.CIFAR10(\n",
    "    data_path, train=True, download=True,\n",
    "    transform=transforms.RandomCrop(32))"
   ]
  },
  {
   "cell_type": "code",
   "execution_count": 4,
   "id": "bf02f382-fd44-4397-a84a-68c1675761f0",
   "metadata": {},
   "outputs": [
    {
     "data": {
      "image/png": "[encoded data removed]",
      "text/plain": [
       "<Figure size 432x288 with 1 Axes>"
      ]
     },
     "metadata": {
      "needs_background": "light"
     },
     "output_type": "display_data"
    }
   ],
   "source": [
    "img_t, _ = transformed_cifar10[99]\n",
    "\n",
    "plt.imshow(img_t)\n",
    "plt.show()"
   ]
  },
  {
   "cell_type": "code",
   "execution_count": 5,
   "id": "21f34025-db46-4438-a1da-d3aafdff4c2a",
   "metadata": {},
   "outputs": [
    {
     "data": {
      "image/png": "[encoded data removed]",
      "text/plain": [
       "<Figure size 432x288 with 1 Axes>"
      ]
     },
     "metadata": {
      "needs_background": "light"
     },
     "output_type": "display_data"
    }
   ],
   "source": [
    "random_crop = transforms.RandomCrop(16)\n",
    "img_t = random_crop(img_t)\n",
    "plt.imshow(img_t)\n",
    "plt.show()"
   ]
  },
  {
   "cell_type": "code",
   "execution_count": 19,
   "id": "31d1935f-6fb6-4625-a860-c20f840405d9",
   "metadata": {},
   "outputs": [],
   "source": [
    "crop_size = 32\n",
    "\n",
    "transform_crop = transforms.Compose([\n",
    "    transforms.RandomCrop(crop_size),\n",
    "    transforms.ToTensor(),\n",
    "    transforms.Normalize((0.4915, 0.4823, 0.4468),\n",
    "                        (0.2470, 0.2435, 0.2616))\n",
    "])\n",
    "\n",
    "transform_no_crop = transforms.Compose([\n",
    "    transforms.ToTensor(),\n",
    "    transforms.Normalize((0.4915, 0.4823, 0.4468),\n",
    "                        (0.2470, 0.2435, 0.2616))\n",
    "])\n",
    "\n",
    "cifar10 = datasets.CIFAR10(\n",
    "    data_path, train=True, download=False,\n",
    "    transform=transform_no_crop)\n",
    "\n",
    "cifar10_val = datasets.CIFAR10(\n",
    "    data_path, train=False, download=False,\n",
    "    transform=transform_no_crop)"
   ]
  },
  {
   "cell_type": "code",
   "execution_count": 20,
   "id": "586dce78-b813-4fdd-bbcf-d95b4aa2f421",
   "metadata": {},
   "outputs": [],
   "source": [
    "label_map = {0:0, 2:1}\n",
    "class_names = ['airplane', 'bird']\n",
    "cifar2 = [(img, label_map[label]) for img, label in cifar10 if label in [0, 2]]\n",
    "cifar2_val = [(img, label_map[label]) for img, label in cifar10_val if label in [0, 2]]"
   ]
  },
  {
   "cell_type": "code",
   "execution_count": 21,
   "id": "82a228df-3a91-4bc4-aa0b-b920bae47f59",
   "metadata": {},
   "outputs": [],
   "source": [
    "train_loader = torch.utils.data.DataLoader(cifar2, batch_size=64, shuffle=True)"
   ]
  },
  {
   "cell_type": "code",
   "execution_count": 23,
   "id": "75939f96-5ae1-46ad-81e8-645e3467b712",
   "metadata": {},
   "outputs": [
    {
     "name": "stdout",
     "output_type": "stream",
     "text": [
      "Epoch:0, Loss:0.5466360449790955\n",
      "Epoch:1, Loss:0.5225091576576233\n",
      "Epoch:2, Loss:0.47977352142333984\n",
      "Epoch:3, Loss:0.6509043574333191\n",
      "Epoch:4, Loss:0.45363086462020874\n",
      "Epoch:5, Loss:0.40073996782302856\n",
      "Epoch:6, Loss:0.37475883960723877\n",
      "Epoch:7, Loss:0.359598845243454\n",
      "Epoch:8, Loss:0.3820255398750305\n",
      "Epoch:9, Loss:0.2791224718093872\n",
      "Epoch:10, Loss:0.43799087405204773\n",
      "Epoch:11, Loss:0.5997544527053833\n",
      "Epoch:12, Loss:0.27878567576408386\n",
      "Epoch:13, Loss:0.5125641226768494\n",
      "Epoch:14, Loss:0.3681667745113373\n",
      "Epoch:15, Loss:0.5852469205856323\n",
      "Epoch:16, Loss:0.5106897950172424\n",
      "Epoch:17, Loss:0.29735809564590454\n",
      "Epoch:18, Loss:0.43464574217796326\n",
      "Epoch:19, Loss:0.565280020236969\n",
      "Epoch:20, Loss:0.7232206463813782\n",
      "Epoch:21, Loss:0.7109858393669128\n",
      "Epoch:22, Loss:0.39549604058265686\n",
      "Epoch:23, Loss:0.5280941128730774\n",
      "Epoch:24, Loss:0.33712053298950195\n",
      "Epoch:25, Loss:0.5083262920379639\n",
      "Epoch:26, Loss:0.22186098992824554\n",
      "Epoch:27, Loss:0.40120163559913635\n",
      "Epoch:28, Loss:0.39216941595077515\n",
      "Epoch:29, Loss:0.4051722288131714\n",
      "Epoch:30, Loss:0.5818547010421753\n",
      "Epoch:31, Loss:0.5637513995170593\n",
      "Epoch:32, Loss:0.3097074031829834\n",
      "Epoch:33, Loss:0.653436541557312\n",
      "Epoch:34, Loss:0.559557318687439\n",
      "Epoch:35, Loss:0.6605975031852722\n",
      "Epoch:36, Loss:0.3917538821697235\n",
      "Epoch:37, Loss:0.3958847224712372\n",
      "Epoch:38, Loss:0.4565480351448059\n",
      "Epoch:39, Loss:0.27858391404151917\n",
      "Epoch:40, Loss:0.7586488127708435\n",
      "Epoch:41, Loss:0.5982025265693665\n",
      "Epoch:42, Loss:0.3503364324569702\n",
      "Epoch:43, Loss:0.4539116621017456\n",
      "Epoch:44, Loss:0.28045737743377686\n",
      "Epoch:45, Loss:0.46870294213294983\n",
      "Epoch:46, Loss:0.20049181580543518\n",
      "Epoch:47, Loss:0.33794915676116943\n",
      "Epoch:48, Loss:0.6475375890731812\n",
      "Epoch:49, Loss:0.530106782913208\n",
      "Epoch:50, Loss:0.5039476156234741\n",
      "Epoch:51, Loss:0.38982143998146057\n",
      "Epoch:52, Loss:0.3121638894081116\n",
      "Epoch:53, Loss:0.4987855851650238\n",
      "Epoch:54, Loss:0.34371381998062134\n",
      "Epoch:55, Loss:0.27194520831108093\n",
      "Epoch:56, Loss:0.2676334083080292\n",
      "Epoch:57, Loss:0.38312047719955444\n",
      "Epoch:58, Loss:0.3990563452243805\n",
      "Epoch:59, Loss:0.2821873426437378\n",
      "Epoch:60, Loss:0.40143924951553345\n",
      "Epoch:61, Loss:0.31165748834609985\n",
      "Epoch:62, Loss:0.32269978523254395\n",
      "Epoch:63, Loss:0.3078922629356384\n",
      "Epoch:64, Loss:0.44713371992111206\n",
      "Epoch:65, Loss:0.4544534385204315\n",
      "Epoch:66, Loss:0.333596795797348\n",
      "Epoch:67, Loss:0.4220288097858429\n",
      "Epoch:68, Loss:0.43398717045783997\n",
      "Epoch:69, Loss:0.2756537199020386\n",
      "Epoch:70, Loss:0.43607473373413086\n",
      "Epoch:71, Loss:0.31444162130355835\n",
      "Epoch:72, Loss:0.5054357051849365\n",
      "Epoch:73, Loss:0.3837279975414276\n",
      "Epoch:74, Loss:0.27682027220726013\n",
      "Epoch:75, Loss:0.5833889842033386\n",
      "Epoch:76, Loss:0.5683368444442749\n",
      "Epoch:77, Loss:0.45028695464134216\n",
      "Epoch:78, Loss:0.13560925424098969\n",
      "Epoch:79, Loss:0.32210829854011536\n",
      "Epoch:80, Loss:0.43646004796028137\n",
      "Epoch:81, Loss:0.2765388488769531\n",
      "Epoch:82, Loss:0.36110731959342957\n",
      "Epoch:83, Loss:0.23564936220645905\n",
      "Epoch:84, Loss:0.23085038363933563\n",
      "Epoch:85, Loss:0.26461976766586304\n",
      "Epoch:86, Loss:0.10473553836345673\n",
      "Epoch:87, Loss:0.1868308037519455\n",
      "Epoch:88, Loss:0.5176929235458374\n",
      "Epoch:89, Loss:0.5580241084098816\n",
      "Epoch:90, Loss:0.2715417444705963\n",
      "Epoch:91, Loss:0.46745723485946655\n",
      "Epoch:92, Loss:0.4786854684352875\n",
      "Epoch:93, Loss:0.1866053342819214\n",
      "Epoch:94, Loss:0.2083052545785904\n",
      "Epoch:95, Loss:0.5701115727424622\n",
      "Epoch:96, Loss:0.29887813329696655\n",
      "Epoch:97, Loss:0.2343745231628418\n",
      "Epoch:98, Loss:0.2950364649295807\n",
      "Epoch:99, Loss:0.2878493368625641\n"
     ]
    }
   ],
   "source": [
    "import torch.nn as nn\n",
    "import torch.optim as optim\n",
    "\n",
    "input_size = crop_size * crop_size *3\n",
    "\n",
    "model = nn.Sequential(\n",
    "            nn.Linear(input_size, 1024),\n",
    "            nn.Tanh(),\n",
    "            nn.Linear(1024, 512),\n",
    "            nn.Tanh(),\n",
    "            nn.Linear(512, 128),\n",
    "            nn.Tanh(),\n",
    "            nn.Linear(128, 2),\n",
    "            nn.LogSoftmax(dim=1))\n",
    "\n",
    "learning_rate = 1e-3\n",
    "\n",
    "optimizer = optim.SGD(model.parameters(), lr=learning_rate)\n",
    "\n",
    "loss_fn = nn.NLLLoss()\n",
    "\n",
    "n_epochs = 100\n",
    "\n",
    "for epoch in range(n_epochs):\n",
    "    for imgs, labels in train_loader:\n",
    "        batch_size = imgs.shape[0]\n",
    "        outputs = model(imgs.view(batch_size, -1))\n",
    "        loss = loss_fn(outputs, labels)\n",
    "        \n",
    "        optimizer.zero_grad()\n",
    "        loss.backward()\n",
    "        optimizer.step()\n",
    "        \n",
    "    print(f'Epoch:{epoch}, Loss:{float(loss)}')"
   ]
  },
  {
   "cell_type": "code",
   "execution_count": 25,
   "id": "9154696f-f7d3-48a0-a5c0-0a2902cf386f",
   "metadata": {},
   "outputs": [
    {
     "name": "stdout",
     "output_type": "stream",
     "text": [
      "Accuracy:0.8550999760627747\n"
     ]
    }
   ],
   "source": [
    "correct = 0\n",
    "total = 0\n",
    "\n",
    "with torch.no_grad():\n",
    "    for imgs, labels in train_loader:\n",
    "        batch_size = labels.shape[0]\n",
    "        outputs = model(imgs.view(batch_size, -1))\n",
    "        _, predicted = torch.max(outputs, dim=1)\n",
    "        total += batch_size\n",
    "        correct += (predicted == labels).sum()\n",
    "\n",
    "print(f'Accuracy:{correct / total}')"
   ]
  },
  {
   "cell_type": "code",
   "execution_count": 26,
   "id": "9f08f9e5-b92d-4d60-83b7-34e889c624e6",
   "metadata": {},
   "outputs": [
    {
     "name": "stdout",
     "output_type": "stream",
     "text": [
      "Accuracy:0.8174999952316284\n"
     ]
    }
   ],
   "source": [
    "val_loader = torch.utils.data.DataLoader(cifar2_val, batch_size=64, shuffle=False)\n",
    "\n",
    "correct = 0\n",
    "total = 0\n",
    "\n",
    "with torch.no_grad():\n",
    "    for imgs, labels in val_loader:\n",
    "        batch_size = labels.shape[0]\n",
    "        outputs = model(imgs.view(batch_size, -1))\n",
    "        _, predicted = torch.max(outputs, dim=1)\n",
    "        total += batch_size\n",
    "        correct += (predicted == labels).sum()\n",
    "\n",
    "print(f'Accuracy:{correct / total}')"
   ]
  },
  {
   "cell_type": "markdown",
   "id": "c782a405-e5d0-400b-8f89-c3f5f2591d9d",
   "metadata": {},
   "source": [
    "# 2.訓練関数の入れ替え(MSE)"
   ]
  },
  {
   "cell_type": "markdown",
   "id": "97855203-0749-4753-af5a-68bb1c305a50",
   "metadata": {},
   "source": [
    "確率ではなく、ラベルを数値に見立て回帰問題として学習する"
   ]
  },
  {
   "cell_type": "code",
   "execution_count": 27,
   "id": "1840ac46-cd09-41fb-99ec-e8fed8b00b61",
   "metadata": {},
   "outputs": [
    {
     "name": "stderr",
     "output_type": "stream",
     "text": [
      "/home/takakiyuto/anaconda3/lib/python3.8/site-packages/torch/nn/modules/loss.py:528: UserWarning: Using a target size (torch.Size([64])) that is different to the input size (torch.Size([64, 1])). This will likely lead to incorrect results due to broadcasting. Please ensure they have the same size.\n",
      "  return F.mse_loss(input, target, reduction=self.reduction)\n",
      "/home/takakiyuto/anaconda3/lib/python3.8/site-packages/torch/nn/modules/loss.py:528: UserWarning: Using a target size (torch.Size([16])) that is different to the input size (torch.Size([16, 1])). This will likely lead to incorrect results due to broadcasting. Please ensure they have the same size.\n",
      "  return F.mse_loss(input, target, reduction=self.reduction)\n"
     ]
    },
    {
     "name": "stdout",
     "output_type": "stream",
     "text": [
      "Epoch:0, Loss:0.2929607927799225\n",
      "Epoch:1, Loss:0.27516230940818787\n",
      "Epoch:2, Loss:0.26277509331703186\n",
      "Epoch:3, Loss:0.2730470299720764\n",
      "Epoch:4, Loss:0.25786709785461426\n",
      "Epoch:5, Loss:0.2623669505119324\n",
      "Epoch:6, Loss:0.26066920161247253\n",
      "Epoch:7, Loss:0.2504061460494995\n",
      "Epoch:8, Loss:0.24664434790611267\n",
      "Epoch:9, Loss:0.2506788372993469\n",
      "Epoch:10, Loss:0.25169312953948975\n",
      "Epoch:11, Loss:0.25283095240592957\n",
      "Epoch:12, Loss:0.2545141577720642\n",
      "Epoch:13, Loss:0.2515367865562439\n",
      "Epoch:14, Loss:0.25300365686416626\n",
      "Epoch:15, Loss:0.25089752674102783\n",
      "Epoch:16, Loss:0.2495119571685791\n",
      "Epoch:17, Loss:0.25070565938949585\n",
      "Epoch:18, Loss:0.24863584339618683\n",
      "Epoch:19, Loss:0.248887836933136\n",
      "Epoch:20, Loss:0.25135987997055054\n",
      "Epoch:21, Loss:0.2517026364803314\n",
      "Epoch:22, Loss:0.2500300705432892\n",
      "Epoch:23, Loss:0.25164756178855896\n",
      "Epoch:24, Loss:0.2508368492126465\n",
      "Epoch:25, Loss:0.25010737776756287\n",
      "Epoch:26, Loss:0.25156697630882263\n",
      "Epoch:27, Loss:0.2509791851043701\n",
      "Epoch:28, Loss:0.24935050308704376\n",
      "Epoch:29, Loss:0.2508166432380676\n",
      "Epoch:30, Loss:0.2506484091281891\n",
      "Epoch:31, Loss:0.2504093050956726\n",
      "Epoch:32, Loss:0.25178205966949463\n",
      "Epoch:33, Loss:0.2505994737148285\n",
      "Epoch:34, Loss:0.25064438581466675\n",
      "Epoch:35, Loss:0.2523597776889801\n",
      "Epoch:36, Loss:0.25153112411499023\n",
      "Epoch:37, Loss:0.2505859136581421\n",
      "Epoch:38, Loss:0.250516414642334\n",
      "Epoch:39, Loss:0.25043949484825134\n",
      "Epoch:40, Loss:0.24850887060165405\n",
      "Epoch:41, Loss:0.250483900308609\n",
      "Epoch:42, Loss:0.2512933909893036\n",
      "Epoch:43, Loss:0.24929866194725037\n",
      "Epoch:44, Loss:0.25025320053100586\n",
      "Epoch:45, Loss:0.2510385811328888\n",
      "Epoch:46, Loss:0.2512390613555908\n",
      "Epoch:47, Loss:0.25018322467803955\n",
      "Epoch:48, Loss:0.24739937484264374\n",
      "Epoch:49, Loss:0.2502593696117401\n",
      "Epoch:50, Loss:0.2524469792842865\n",
      "Epoch:51, Loss:0.2490692138671875\n",
      "Epoch:52, Loss:0.25026193261146545\n",
      "Epoch:53, Loss:0.25079378485679626\n",
      "Epoch:54, Loss:0.25092288851737976\n",
      "Epoch:55, Loss:0.24817991256713867\n",
      "Epoch:56, Loss:0.25110432505607605\n",
      "Epoch:57, Loss:0.24974043667316437\n",
      "Epoch:58, Loss:0.24820974469184875\n",
      "Epoch:59, Loss:0.25051188468933105\n",
      "Epoch:60, Loss:0.25007307529449463\n",
      "Epoch:61, Loss:0.24970842897891998\n",
      "Epoch:62, Loss:0.25106221437454224\n",
      "Epoch:63, Loss:0.2500988245010376\n",
      "Epoch:64, Loss:0.25159427523612976\n",
      "Epoch:65, Loss:0.24932941794395447\n",
      "Epoch:66, Loss:0.24981580674648285\n",
      "Epoch:67, Loss:0.253487229347229\n",
      "Epoch:68, Loss:0.24997681379318237\n",
      "Epoch:69, Loss:0.2501411736011505\n",
      "Epoch:70, Loss:0.2506352961063385\n",
      "Epoch:71, Loss:0.25056564807891846\n",
      "Epoch:72, Loss:0.2503722310066223\n",
      "Epoch:73, Loss:0.2504926919937134\n",
      "Epoch:74, Loss:0.25279146432876587\n",
      "Epoch:75, Loss:0.2512592077255249\n",
      "Epoch:76, Loss:0.25023046135902405\n",
      "Epoch:77, Loss:0.24975453317165375\n",
      "Epoch:78, Loss:0.24965304136276245\n",
      "Epoch:79, Loss:0.25107914209365845\n",
      "Epoch:80, Loss:0.2500096261501312\n",
      "Epoch:81, Loss:0.2504124939441681\n",
      "Epoch:82, Loss:0.25044167041778564\n",
      "Epoch:83, Loss:0.25040093064308167\n",
      "Epoch:84, Loss:0.2493530511856079\n",
      "Epoch:85, Loss:0.2503240704536438\n",
      "Epoch:86, Loss:0.24906274676322937\n",
      "Epoch:87, Loss:0.2516933083534241\n",
      "Epoch:88, Loss:0.2505960464477539\n",
      "Epoch:89, Loss:0.25020015239715576\n",
      "Epoch:90, Loss:0.24958375096321106\n",
      "Epoch:91, Loss:0.2501541078090668\n",
      "Epoch:92, Loss:0.25086233019828796\n",
      "Epoch:93, Loss:0.2500745952129364\n",
      "Epoch:94, Loss:0.25028759241104126\n",
      "Epoch:95, Loss:0.24962228536605835\n",
      "Epoch:96, Loss:0.25065669417381287\n",
      "Epoch:97, Loss:0.2518986761569977\n",
      "Epoch:98, Loss:0.2510407865047455\n",
      "Epoch:99, Loss:0.25035765767097473\n"
     ]
    }
   ],
   "source": [
    "import torch.nn as nn\n",
    "import torch.optim as optim\n",
    "\n",
    "input_size = crop_size * crop_size *3\n",
    "\n",
    "model = nn.Sequential(\n",
    "            nn.Linear(input_size, 1024),\n",
    "            nn.Tanh(),\n",
    "            nn.Linear(1024, 512),\n",
    "            nn.Tanh(),\n",
    "            nn.Linear(512, 128),\n",
    "            nn.Tanh(),\n",
    "            nn.Linear(128, 1),)\n",
    "\n",
    "learning_rate = 1e-3\n",
    "\n",
    "optimizer = optim.SGD(model.parameters(), lr=learning_rate)\n",
    "\n",
    "loss_fn = nn.MSELoss()\n",
    "\n",
    "n_epochs = 100\n",
    "\n",
    "for epoch in range(n_epochs):\n",
    "    for imgs, labels in train_loader:\n",
    "        batch_size = imgs.shape[0]\n",
    "        outputs = model(imgs.view(batch_size, -1))\n",
    "        loss = loss_fn(outputs, labels.float())\n",
    "        \n",
    "        optimizer.zero_grad()\n",
    "        loss.backward()\n",
    "        optimizer.step()\n",
    "        \n",
    "    print(f'Epoch:{epoch}, Loss:{float(loss)}')"
   ]
  },
  {
   "cell_type": "code",
   "execution_count": null,
   "id": "0276462e-db68-4287-b376-15af3edf6468",
   "metadata": {},
   "outputs": [],
   "source": []
  },
  {
   "cell_type": "code",
   "execution_count": null,
   "id": "050c1336-d6c5-4e64-bf12-ead9e31fa327",
   "metadata": {},
   "outputs": [],
   "source": []
  },
  {
   "cell_type": "code",
   "execution_count": 32,
   "id": "c7d2f74c-6552-40f4-bd19-4cf69e6170f0",
   "metadata": {},
   "outputs": [
    {
     "name": "stdout",
     "output_type": "stream",
     "text": [
      "Accuracy:0.520799994468689\n"
     ]
    }
   ],
   "source": [
    "correct = 0\n",
    "total = 0\n",
    "\n",
    "with torch.no_grad():\n",
    "    for imgs, labels in train_loader:\n",
    "        batch_size = labels.shape[0]\n",
    "        outputs = model(imgs.view(batch_size, -1))\n",
    "        outputs[outputs >= 0.5] = int(1)\n",
    "        outputs[outputs <= 0.5] = int(0)\n",
    "        outputs = outputs.squeeze()\n",
    "        total += batch_size\n",
    "        correct += (outputs == labels).sum()\n",
    "        \n",
    "print(f'Accuracy:{correct / total}')"
   ]
  },
  {
   "cell_type": "markdown",
   "id": "459fc071-d039-4e0b-9c61-c4cfbb7d8bba",
   "metadata": {},
   "source": [
    "# 3\n",
    "ネットワークの容量を減らすことで、過学習を停止する"
   ]
  },
  {
   "cell_type": "code",
   "execution_count": 35,
   "id": "8378d44f-804c-422e-ab82-3213870a16a5",
   "metadata": {},
   "outputs": [
    {
     "name": "stdout",
     "output_type": "stream",
     "text": [
      "Epoch:0, train_loss:0.5923285645664118, val_loss:0.541011325083673\n",
      "Epoch:10, train_loss:0.47716009199239645, val_loss:0.4690235583111644\n",
      "Epoch:20, train_loss:0.4549754582772589, val_loss:0.4551337594166398\n",
      "Epoch:30, train_loss:0.43942800107275604, val_loss:0.44230358581990004\n",
      "Epoch:40, train_loss:0.42716842472173605, val_loss:0.4354666816070676\n",
      "Epoch:50, train_loss:0.41461211917506663, val_loss:0.43067983724176884\n",
      "Epoch:60, train_loss:0.40294860996258486, val_loss:0.42420241329818964\n",
      "Epoch:70, train_loss:0.3894062893595665, val_loss:0.4229659428820014\n",
      "Epoch:80, train_loss:0.3758756472806262, val_loss:0.41838122718036175\n",
      "Epoch:90, train_loss:0.36433552366912747, val_loss:0.415889086201787\n",
      "Epoch:100, train_loss:0.3479366431570357, val_loss:0.4167009489610791\n",
      "Epoch:110, train_loss:0.3323660311615391, val_loss:0.4123869384638965\n",
      "Epoch:120, train_loss:0.31696975022364576, val_loss:0.41095075057819486\n",
      "Epoch:130, train_loss:0.2997040340475216, val_loss:0.41050759609788656\n",
      "Epoch:140, train_loss:0.2825176514637698, val_loss:0.4111866825260222\n"
     ]
    }
   ],
   "source": [
    "\n",
    "model = nn.Sequential(\n",
    "            nn.Linear(input_size, 256),            \n",
    "            nn.Tanh(),\n",
    "            nn.Linear(256, 64),\n",
    "            nn.Tanh(),\n",
    "            nn.Linear(64, 2))\n",
    "\n",
    "learning_rate = 1e-3\n",
    "\n",
    "optimizer = optim.SGD(model.parameters(), lr=learning_rate)\n",
    "\n",
    "loss_fn = nn.CrossEntropyLoss()\n",
    "\n",
    "n_epochs = 150\n",
    "\n",
    "\n",
    "for epoch in range(n_epochs):\n",
    "    train_loss = 0\n",
    "    val_loss = 0\n",
    "    for imgs, labels in train_loader:\n",
    "        batch_size = imgs.shape[0]\n",
    "        outputs = model(imgs.view(batch_size, -1))\n",
    "        loss = loss_fn(outputs, labels)\n",
    "        \n",
    "        optimizer.zero_grad()\n",
    "        loss.backward()\n",
    "        optimizer.step()\n",
    "        \n",
    "        train_loss += loss.item()\n",
    "    avg_train_loss = train_loss / len(train_loader)\n",
    "    \n",
    "    with torch.no_grad():\n",
    "        for imgs, labels in val_loader:\n",
    "            batch_size = labels.shape[0]\n",
    "            outputs = model(imgs.view(batch_size, -1))\n",
    "            loss = loss_fn(outputs, labels)\n",
    "            val_loss += loss.item()\n",
    "        avg_val_loss = val_loss / len(val_loader)\n",
    "    \n",
    "    if epoch % 10 == 0:\n",
    "        print(f'Epoch:{epoch}, train_loss:{float(avg_train_loss)}, val_loss:{float(avg_val_loss)}')"
   ]
  },
  {
   "cell_type": "code",
   "execution_count": 36,
   "id": "9b6ec6f7-0c10-453e-b031-c8112cb3d4fa",
   "metadata": {},
   "outputs": [
    {
     "name": "stdout",
     "output_type": "stream",
     "text": [
      "Accuracy:0.902999997138977\n"
     ]
    }
   ],
   "source": [
    "correct = 0\n",
    "total = 0\n",
    "\n",
    "with torch.no_grad():\n",
    "    for imgs, labels in train_loader:\n",
    "        batch_size = labels.shape[0]\n",
    "        outputs = model(imgs.view(batch_size, -1))\n",
    "        _, predicted = torch.max(outputs, dim=1)\n",
    "        total += batch_size\n",
    "        correct += (predicted == labels).sum()\n",
    "\n",
    "print(f'Accuracy:{correct / total}')"
   ]
  },
  {
   "cell_type": "code",
   "execution_count": 37,
   "id": "c83786b6-db01-4e94-90dd-8e34a72ea7b9",
   "metadata": {},
   "outputs": [
    {
     "name": "stdout",
     "output_type": "stream",
     "text": [
      "Accuracy:0.8205000162124634\n"
     ]
    }
   ],
   "source": [
    "\n",
    "correct = 0\n",
    "total = 0\n",
    "\n",
    "with torch.no_grad():\n",
    "    for imgs, labels in val_loader:\n",
    "        batch_size = labels.shape[0]\n",
    "        outputs = model(imgs.view(batch_size, -1))\n",
    "        _, predicted = torch.max(outputs, dim=1)\n",
    "        total += batch_size\n",
    "        correct += (predicted == labels).sum()\n",
    "\n",
    "print(f'Accuracy:{correct / total}')"
   ]
  },
  {
   "cell_type": "code",
   "execution_count": null,
   "id": "673c6b13-c5c3-4fc3-8b05-e9b9aa161c85",
   "metadata": {},
   "outputs": [],
   "source": []
  }
 ],
 "metadata": {
  "kernelspec": {
   "display_name": "Python 3",
   "language": "python",
   "name": "python3"
  },
  "language_info": {
   "codemirror_mode": {
    "name": "ipython",
    "version": 3
   },
   "file_extension": ".py",
   "mimetype": "text/x-python",
   "name": "python",
   "nbconvert_exporter": "python",
   "pygments_lexer": "ipython3",
   "version": "3.8.8"
  }
 },
 "nbformat": 4,
 "nbformat_minor": 5
}
